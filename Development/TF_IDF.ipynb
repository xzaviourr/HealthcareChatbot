{
  "nbformat": 4,
  "nbformat_minor": 0,
  "metadata": {
    "colab": {
      "name": "TF-IDF.ipynb",
      "provenance": []
    },
    "kernelspec": {
      "name": "python3",
      "display_name": "Python 3"
    },
    "language_info": {
      "name": "python"
    }
  },
  "cells": [
    {
      "cell_type": "code",
      "execution_count": null,
      "metadata": {
        "id": "-BLSatl2urVQ"
      },
      "outputs": [],
      "source": [
        "import io\n",
        "import random\n",
        "import string # to process standard python strings\n",
        "import warnings\n",
        "import numpy as np\n",
        "from sklearn.feature_extraction.text import TfidfVectorizer\n",
        "from sklearn.metrics.pairwise import cosine_similarity\n",
        "import warnings\n",
        "warnings.filterwarnings('ignore')"
      ]
    },
    {
      "cell_type": "code",
      "source": [
        "import nltk\n",
        "from nltk.stem import WordNetLemmatizer\n",
        "nltk.download('popular', quiet=True) # for downloading packages\n",
        "#nltk.download('punkt') # first-time use only\n",
        "#nltk.download('wordnet') # first-time use only"
      ],
      "metadata": {
        "colab": {
          "base_uri": "https://localhost:8080/"
        },
        "id": "wfCS-rZzuwdG",
        "outputId": "95a8bac7-05a8-4ecf-8b25-bf98aa1267a3"
      },
      "execution_count": null,
      "outputs": [
        {
          "output_type": "execute_result",
          "data": {
            "text/plain": [
              "True"
            ]
          },
          "metadata": {},
          "execution_count": 4
        }
      ]
    },
    {
      "cell_type": "code",
      "source": [
        "from google.colab import drive\n",
        "drive.mount(\"/content/gdrive\")"
      ],
      "metadata": {
        "colab": {
          "base_uri": "https://localhost:8080/"
        },
        "id": "r_HEV6gB3Jz4",
        "outputId": "a99af89c-95b8-41ef-d5d6-20751ce30b7a"
      },
      "execution_count": null,
      "outputs": [
        {
          "output_type": "stream",
          "name": "stdout",
          "text": [
            "Mounted at /content/gdrive\n"
          ]
        }
      ]
    },
    {
      "cell_type": "code",
      "source": [
        "import pandas as pd\n",
        "df=pd.read_json('https://raw.githubusercontent.com/LasseRegin/medical-question-answer-data/master/questionDoctorQAs.json')\n",
        "#df=df.apply(lambda x: x.str.lower())\n",
        "df[60:70]"
      ],
      "metadata": {
        "colab": {
          "base_uri": "https://localhost:8080/",
          "height": 581
        },
        "id": "n4s6UZ52u19t",
        "outputId": "403cd94f-3a2a-4487-c5a8-8906d05e135e"
      },
      "execution_count": null,
      "outputs": [
        {
          "output_type": "execute_result",
          "data": {
            "text/plain": [
              "                                               answer     answer_author  \\\n",
              "60  bleeding after cold coagulation can occur for ...          Dr.Honey   \n",
              "61  it’s a normal sequelle after the coagulation a...           Dr Masr   \n",
              "62  ecg brain mri and echo. should be done asapwha...           Dr Masr   \n",
              "63  hi this is not common set back go to the er an...    Dr Ahmed Fawzy   \n",
              "64  that’s an emergency it can be a tia warning so...  Dr. Ayman Darrag   \n",
              "65  the symptoms looks like a medical emergency. c...          Dr.Honey   \n",
              "66        you will need to go to er for urgent tests.       Dr. D. Zluf   \n",
              "67  hi it sounds like you have psos i need to know...    Dr Ahmed Fawzy   \n",
              "68  hi unfortunately your only option would be sur...    Dr Ahmed Fawzy   \n",
              "69  i need more details about your history your ag...  Dr. Ayman Darrag   \n",
              "\n",
              "                                             question  \\\n",
              "60  i had cold coagulation for (cin) cervical intr...   \n",
              "61  i had cold coagulation for (cin) cervical intr...   \n",
              "62  my husband is 42y/o hx. of stroke 1 year ago. ...   \n",
              "63  my husband is 42y/o hx. of stroke 1 year ago. ...   \n",
              "64  my husband is 42y/o hx. of stroke 1 year ago. ...   \n",
              "65  my husband is 42y/o hx. of stroke 1 year ago. ...   \n",
              "66  my husband is 42y/o hx. of stroke 1 year ago. ...   \n",
              "67  i have irregular periods and i am trying to ge...   \n",
              "68  i broke my collarbone back in 2009 my chest se...   \n",
              "69  i have irregular periods and i am trying to ge...   \n",
              "\n",
              "                                        question_text  \\\n",
              "60  I had cold coagulation for (cin) cervical intr...   \n",
              "61  I had cold coagulation for (cin) cervical intr...   \n",
              "62  My husband is 42y/o Hx. of stroke 1 year ago. ...   \n",
              "63  My husband is 42y/o Hx. of stroke 1 year ago. ...   \n",
              "64  My husband is 42y/o Hx. of stroke 1 year ago. ...   \n",
              "65  My husband is 42y/o Hx. of stroke 1 year ago. ...   \n",
              "66  My husband is 42y/o Hx. of stroke 1 year ago. ...   \n",
              "67  I have Irregular periods and I am trying to ge...   \n",
              "68  I broke my collarbone back in 2009, my chest s...   \n",
              "69  I have Irregular periods and I am trying to ge...   \n",
              "\n",
              "                                                 tags  \\\n",
              "60  [cervical intraepithelial neoplasia, cold coag...   \n",
              "61  [cervical intraepithelial neoplasia, cold coag...   \n",
              "62                                           [stroke]   \n",
              "63                                           [stroke]   \n",
              "64                                           [stroke]   \n",
              "65                                           [stroke]   \n",
              "66                                           [stroke]   \n",
              "67                      [irregular periods pregnancy]   \n",
              "68                                [spine deformation]   \n",
              "69                      [irregular periods pregnancy]   \n",
              "\n",
              "                                                  url  \n",
              "60  https://questiondoctors.com/i-had-cold-coagula...  \n",
              "61  https://questiondoctors.com/i-had-cold-coagula...  \n",
              "62  https://questiondoctors.com/my-husband-is-42yo...  \n",
              "63  https://questiondoctors.com/my-husband-is-42yo...  \n",
              "64  https://questiondoctors.com/my-husband-is-42yo...  \n",
              "65  https://questiondoctors.com/my-husband-is-42yo...  \n",
              "66  https://questiondoctors.com/my-husband-is-42yo...  \n",
              "67  https://questiondoctors.com/i-have-irregular-p...  \n",
              "68  https://questiondoctors.com/i-broke-my-collarb...  \n",
              "69  https://questiondoctors.com/i-have-irregular-p...  "
            ],
            "text/html": [
              "\n",
              "  <div id=\"df-7d53caec-953b-4b1c-91b0-a5ee6e9c4e82\">\n",
              "    <div class=\"colab-df-container\">\n",
              "      <div>\n",
              "<style scoped>\n",
              "    .dataframe tbody tr th:only-of-type {\n",
              "        vertical-align: middle;\n",
              "    }\n",
              "\n",
              "    .dataframe tbody tr th {\n",
              "        vertical-align: top;\n",
              "    }\n",
              "\n",
              "    .dataframe thead th {\n",
              "        text-align: right;\n",
              "    }\n",
              "</style>\n",
              "<table border=\"1\" class=\"dataframe\">\n",
              "  <thead>\n",
              "    <tr style=\"text-align: right;\">\n",
              "      <th></th>\n",
              "      <th>answer</th>\n",
              "      <th>answer_author</th>\n",
              "      <th>question</th>\n",
              "      <th>question_text</th>\n",
              "      <th>tags</th>\n",
              "      <th>url</th>\n",
              "    </tr>\n",
              "  </thead>\n",
              "  <tbody>\n",
              "    <tr>\n",
              "      <th>60</th>\n",
              "      <td>bleeding after cold coagulation can occur for ...</td>\n",
              "      <td>Dr.Honey</td>\n",
              "      <td>i had cold coagulation for (cin) cervical intr...</td>\n",
              "      <td>I had cold coagulation for (cin) cervical intr...</td>\n",
              "      <td>[cervical intraepithelial neoplasia, cold coag...</td>\n",
              "      <td>https://questiondoctors.com/i-had-cold-coagula...</td>\n",
              "    </tr>\n",
              "    <tr>\n",
              "      <th>61</th>\n",
              "      <td>it’s a normal sequelle after the coagulation a...</td>\n",
              "      <td>Dr Masr</td>\n",
              "      <td>i had cold coagulation for (cin) cervical intr...</td>\n",
              "      <td>I had cold coagulation for (cin) cervical intr...</td>\n",
              "      <td>[cervical intraepithelial neoplasia, cold coag...</td>\n",
              "      <td>https://questiondoctors.com/i-had-cold-coagula...</td>\n",
              "    </tr>\n",
              "    <tr>\n",
              "      <th>62</th>\n",
              "      <td>ecg brain mri and echo. should be done asapwha...</td>\n",
              "      <td>Dr Masr</td>\n",
              "      <td>my husband is 42y/o hx. of stroke 1 year ago. ...</td>\n",
              "      <td>My husband is 42y/o Hx. of stroke 1 year ago. ...</td>\n",
              "      <td>[stroke]</td>\n",
              "      <td>https://questiondoctors.com/my-husband-is-42yo...</td>\n",
              "    </tr>\n",
              "    <tr>\n",
              "      <th>63</th>\n",
              "      <td>hi this is not common set back go to the er an...</td>\n",
              "      <td>Dr Ahmed Fawzy</td>\n",
              "      <td>my husband is 42y/o hx. of stroke 1 year ago. ...</td>\n",
              "      <td>My husband is 42y/o Hx. of stroke 1 year ago. ...</td>\n",
              "      <td>[stroke]</td>\n",
              "      <td>https://questiondoctors.com/my-husband-is-42yo...</td>\n",
              "    </tr>\n",
              "    <tr>\n",
              "      <th>64</th>\n",
              "      <td>that’s an emergency it can be a tia warning so...</td>\n",
              "      <td>Dr. Ayman Darrag</td>\n",
              "      <td>my husband is 42y/o hx. of stroke 1 year ago. ...</td>\n",
              "      <td>My husband is 42y/o Hx. of stroke 1 year ago. ...</td>\n",
              "      <td>[stroke]</td>\n",
              "      <td>https://questiondoctors.com/my-husband-is-42yo...</td>\n",
              "    </tr>\n",
              "    <tr>\n",
              "      <th>65</th>\n",
              "      <td>the symptoms looks like a medical emergency. c...</td>\n",
              "      <td>Dr.Honey</td>\n",
              "      <td>my husband is 42y/o hx. of stroke 1 year ago. ...</td>\n",
              "      <td>My husband is 42y/o Hx. of stroke 1 year ago. ...</td>\n",
              "      <td>[stroke]</td>\n",
              "      <td>https://questiondoctors.com/my-husband-is-42yo...</td>\n",
              "    </tr>\n",
              "    <tr>\n",
              "      <th>66</th>\n",
              "      <td>you will need to go to er for urgent tests.</td>\n",
              "      <td>Dr. D. Zluf</td>\n",
              "      <td>my husband is 42y/o hx. of stroke 1 year ago. ...</td>\n",
              "      <td>My husband is 42y/o Hx. of stroke 1 year ago. ...</td>\n",
              "      <td>[stroke]</td>\n",
              "      <td>https://questiondoctors.com/my-husband-is-42yo...</td>\n",
              "    </tr>\n",
              "    <tr>\n",
              "      <th>67</th>\n",
              "      <td>hi it sounds like you have psos i need to know...</td>\n",
              "      <td>Dr Ahmed Fawzy</td>\n",
              "      <td>i have irregular periods and i am trying to ge...</td>\n",
              "      <td>I have Irregular periods and I am trying to ge...</td>\n",
              "      <td>[irregular periods pregnancy]</td>\n",
              "      <td>https://questiondoctors.com/i-have-irregular-p...</td>\n",
              "    </tr>\n",
              "    <tr>\n",
              "      <th>68</th>\n",
              "      <td>hi unfortunately your only option would be sur...</td>\n",
              "      <td>Dr Ahmed Fawzy</td>\n",
              "      <td>i broke my collarbone back in 2009 my chest se...</td>\n",
              "      <td>I broke my collarbone back in 2009, my chest s...</td>\n",
              "      <td>[spine deformation]</td>\n",
              "      <td>https://questiondoctors.com/i-broke-my-collarb...</td>\n",
              "    </tr>\n",
              "    <tr>\n",
              "      <th>69</th>\n",
              "      <td>i need more details about your history your ag...</td>\n",
              "      <td>Dr. Ayman Darrag</td>\n",
              "      <td>i have irregular periods and i am trying to ge...</td>\n",
              "      <td>I have Irregular periods and I am trying to ge...</td>\n",
              "      <td>[irregular periods pregnancy]</td>\n",
              "      <td>https://questiondoctors.com/i-have-irregular-p...</td>\n",
              "    </tr>\n",
              "  </tbody>\n",
              "</table>\n",
              "</div>\n",
              "      <button class=\"colab-df-convert\" onclick=\"convertToInteractive('df-7d53caec-953b-4b1c-91b0-a5ee6e9c4e82')\"\n",
              "              title=\"Convert this dataframe to an interactive table.\"\n",
              "              style=\"display:none;\">\n",
              "        \n",
              "  <svg xmlns=\"http://www.w3.org/2000/svg\" height=\"24px\"viewBox=\"0 0 24 24\"\n",
              "       width=\"24px\">\n",
              "    <path d=\"M0 0h24v24H0V0z\" fill=\"none\"/>\n",
              "    <path d=\"M18.56 5.44l.94 2.06.94-2.06 2.06-.94-2.06-.94-.94-2.06-.94 2.06-2.06.94zm-11 1L8.5 8.5l.94-2.06 2.06-.94-2.06-.94L8.5 2.5l-.94 2.06-2.06.94zm10 10l.94 2.06.94-2.06 2.06-.94-2.06-.94-.94-2.06-.94 2.06-2.06.94z\"/><path d=\"M17.41 7.96l-1.37-1.37c-.4-.4-.92-.59-1.43-.59-.52 0-1.04.2-1.43.59L10.3 9.45l-7.72 7.72c-.78.78-.78 2.05 0 2.83L4 21.41c.39.39.9.59 1.41.59.51 0 1.02-.2 1.41-.59l7.78-7.78 2.81-2.81c.8-.78.8-2.07 0-2.86zM5.41 20L4 18.59l7.72-7.72 1.47 1.35L5.41 20z\"/>\n",
              "  </svg>\n",
              "      </button>\n",
              "      \n",
              "  <style>\n",
              "    .colab-df-container {\n",
              "      display:flex;\n",
              "      flex-wrap:wrap;\n",
              "      gap: 12px;\n",
              "    }\n",
              "\n",
              "    .colab-df-convert {\n",
              "      background-color: #E8F0FE;\n",
              "      border: none;\n",
              "      border-radius: 50%;\n",
              "      cursor: pointer;\n",
              "      display: none;\n",
              "      fill: #1967D2;\n",
              "      height: 32px;\n",
              "      padding: 0 0 0 0;\n",
              "      width: 32px;\n",
              "    }\n",
              "\n",
              "    .colab-df-convert:hover {\n",
              "      background-color: #E2EBFA;\n",
              "      box-shadow: 0px 1px 2px rgba(60, 64, 67, 0.3), 0px 1px 3px 1px rgba(60, 64, 67, 0.15);\n",
              "      fill: #174EA6;\n",
              "    }\n",
              "\n",
              "    [theme=dark] .colab-df-convert {\n",
              "      background-color: #3B4455;\n",
              "      fill: #D2E3FC;\n",
              "    }\n",
              "\n",
              "    [theme=dark] .colab-df-convert:hover {\n",
              "      background-color: #434B5C;\n",
              "      box-shadow: 0px 1px 3px 1px rgba(0, 0, 0, 0.15);\n",
              "      filter: drop-shadow(0px 1px 2px rgba(0, 0, 0, 0.3));\n",
              "      fill: #FFFFFF;\n",
              "    }\n",
              "  </style>\n",
              "\n",
              "      <script>\n",
              "        const buttonEl =\n",
              "          document.querySelector('#df-7d53caec-953b-4b1c-91b0-a5ee6e9c4e82 button.colab-df-convert');\n",
              "        buttonEl.style.display =\n",
              "          google.colab.kernel.accessAllowed ? 'block' : 'none';\n",
              "\n",
              "        async function convertToInteractive(key) {\n",
              "          const element = document.querySelector('#df-7d53caec-953b-4b1c-91b0-a5ee6e9c4e82');\n",
              "          const dataTable =\n",
              "            await google.colab.kernel.invokeFunction('convertToInteractive',\n",
              "                                                     [key], {});\n",
              "          if (!dataTable) return;\n",
              "\n",
              "          const docLinkHtml = 'Like what you see? Visit the ' +\n",
              "            '<a target=\"_blank\" href=https://colab.research.google.com/notebooks/data_table.ipynb>data table notebook</a>'\n",
              "            + ' to learn more about interactive tables.';\n",
              "          element.innerHTML = '';\n",
              "          dataTable['output_type'] = 'display_data';\n",
              "          await google.colab.output.renderOutput(dataTable, element);\n",
              "          const docLink = document.createElement('div');\n",
              "          docLink.innerHTML = docLinkHtml;\n",
              "          element.appendChild(docLink);\n",
              "        }\n",
              "      </script>\n",
              "    </div>\n",
              "  </div>\n",
              "  "
            ]
          },
          "metadata": {},
          "execution_count": 6
        }
      ]
    },
    {
      "cell_type": "code",
      "source": [
        "df['question_text'].unique().shape"
      ],
      "metadata": {
        "colab": {
          "base_uri": "https://localhost:8080/"
        },
        "id": "CkDZBJBg6zlb",
        "outputId": "ff43682b-8a55-4d13-a1ad-18c60f25579b"
      },
      "execution_count": null,
      "outputs": [
        {
          "output_type": "execute_result",
          "data": {
            "text/plain": [
              "(1890,)"
            ]
          },
          "metadata": {},
          "execution_count": 7
        }
      ]
    },
    {
      "cell_type": "code",
      "source": [
        "data=pd.read_json('https://raw.githubusercontent.com/LasseRegin/medical-question-answer-data/master/webmdQAs.json')"
      ],
      "metadata": {
        "id": "yy60lqdzCOzI"
      },
      "execution_count": null,
      "outputs": []
    },
    {
      "cell_type": "code",
      "source": [
        "\n",
        "questions=[]\n",
        "for que in df['question_text']:\n",
        "  questions.append(que)\n",
        "  \n",
        "\n",
        "\n",
        "\n",
        "\n",
        "'''\n",
        "sent_tokens='.'.join(sent_tokens)\n",
        "\n",
        "print(sent_tokens)\n",
        "sent_tokens = nltk.sent_tokenize(sent_tokens) # converts to list of sentences \n",
        "print(sent_tokens)\n",
        "word_tokens = nltk.word_tokenize(sent_tokens) # converts to list of words\n",
        "word_tokens'''"
      ],
      "metadata": {
        "colab": {
          "base_uri": "https://localhost:8080/",
          "height": 53
        },
        "id": "hsNadlzfx1we",
        "outputId": "049a3b40-6c80-4eb8-eddf-4656e3d61b1a"
      },
      "execution_count": null,
      "outputs": [
        {
          "output_type": "execute_result",
          "data": {
            "text/plain": [
              "\"\\nsent_tokens='.'.join(sent_tokens)\\n\\nprint(sent_tokens)\\nsent_tokens = nltk.sent_tokenize(sent_tokens) # converts to list of sentences \\nprint(sent_tokens)\\nword_tokens = nltk.word_tokenize(sent_tokens) # converts to list of words\\nword_tokens\""
            ],
            "application/vnd.google.colaboratory.intrinsic+json": {
              "type": "string"
            }
          },
          "metadata": {},
          "execution_count": 9
        }
      ]
    },
    {
      "cell_type": "markdown",
      "source": [
        "# TF -IDF"
      ],
      "metadata": {
        "id": "s2xpvVw-DJJG"
      }
    },
    {
      "cell_type": "code",
      "source": [
        "lemmer = nltk.stem.WordNetLemmatizer()\n",
        "#WordNet is a semantically-oriented dictionary of English included in NLTK.\n",
        "def LemTokens(word_tokens):\n",
        "    return [lemmer.lemmatize(token) for token in word_tokens]\n",
        "remove_punct_dict = dict((ord(punct), None) for punct in string.punctuation)\n",
        "\n",
        "def LemNormalize(text):\n",
        "    return LemTokens(nltk.word_tokenize(text.lower().translate(remove_punct_dict)))"
      ],
      "metadata": {
        "id": "qs5ZtKxb4s6B"
      },
      "execution_count": null,
      "outputs": []
    },
    {
      "cell_type": "code",
      "source": [
        "GREETING_INPUTS = ('Issues', 'in', 'breathing', '.', 'Pain', 'in', 'chest', 'and', 'blood', 'clotted', 'cough')  #keywords from database\n",
        "related_que=[]\n",
        "respective_ans=[]\n",
        "def greeting(sentence):\n",
        "  for word in sentence.split():\n",
        "    for response in df['question_text'][:30]:     #For each ques\n",
        "       ques=nltk.word_tokenize(response)\n",
        "       #print(ques)\n",
        "       related_que.append(random.choice(ques))    #get randomized output \n",
        "       respective_ans.append(df['answer'])\n",
        "\n"
      ],
      "metadata": {
        "id": "3wUYNTbG9jQJ"
      },
      "execution_count": null,
      "outputs": []
    },
    {
      "cell_type": "code",
      "source": [
        "def fetch_features(chat):\n",
        "    features = {}\n",
        "    for word in nltk.word_tokenize(chat):\n",
        "        features['contains({})'.format(word.lower())] = True\n",
        "    return features"
      ],
      "metadata": {
        "id": "oWGgkvyq3my9"
      },
      "execution_count": null,
      "outputs": []
    },
    {
      "cell_type": "code",
      "source": [
        "answers=[]\n",
        "def response(sent):\n",
        "    robo_response=''\n",
        "    questions.append(sent)\n",
        "    TfidfVec = TfidfVectorizer(tokenizer=LemNormalize, stop_words='english')\n",
        "    tfidf = TfidfVec.fit_transform(questions)        #TF IDF Vector transformation (Word embedding, Count Vector, BOW, Glove alternates)\n",
        "    vals = cosine_similarity(tfidf[-1], tfidf)       #Cosine similarity on TF IDF vectors \n",
        "\n",
        "    idx=vals.argsort()[0][-2]\n",
        "    flat = vals.flatten()\n",
        "    flat.sort()\n",
        "    req_tfidf = flat[-2]\n",
        "    if(req_tfidf==0):\n",
        "        robo_response=robo_response+\"I am sorry! I don't understand you\"\n",
        "        return robo_response\n",
        "    else:\n",
        "        for i in range(10):\n",
        "          answers.append(questions[idx-i])\n",
        "        robo_response = robo_response+questions[idx]\n",
        "        return robo_response\n"
      ],
      "metadata": {
        "id": "FIuiLywB90GD"
      },
      "execution_count": null,
      "outputs": []
    },
    {
      "cell_type": "code",
      "source": [
        "flag=True\n",
        "print(\"ROBO: My name is Robo. I will answer your queries about Chatbots. If you want to exit, type Bye!\")\n",
        "user_response = 'chest pain in lungs'\n",
        "user_response=user_response.lower()\n",
        "if(user_response!='bye'):\n",
        "    if(user_response=='thanks' or user_response=='thank you' ):\n",
        "        flag=False\n",
        "        print(\"ROBO: You are welcome..\")\n",
        "    else:\n",
        "        print(\"ROBO: \",end=\"\")\n",
        "        print(response(user_response))\n",
        "        questions.remove(user_response)\n",
        "else:\n",
        "    flag=False\n",
        "    print(\"ROBO: Bye! take care..\")\n",
        "    print(\"ROBO: Bye! take care..\")"
      ],
      "metadata": {
        "colab": {
          "base_uri": "https://localhost:8080/"
        },
        "id": "-Ycg4LsiOWA1",
        "outputId": "df5b8bbb-582c-49a4-c070-42f43f248b12"
      },
      "execution_count": null,
      "outputs": [
        {
          "output_type": "stream",
          "name": "stdout",
          "text": [
            "ROBO: My name is Robo. I will answer your queries about Chatbots. If you want to exit, type Bye!\n",
            "ROBO: I am (suffering) pain on left side of my chest?\n"
          ]
        }
      ]
    },
    {
      "cell_type": "code",
      "source": [
        "answers"
      ],
      "metadata": {
        "id": "wPpV6mJZPLWS",
        "colab": {
          "base_uri": "https://localhost:8080/"
        },
        "outputId": "f89c3256-bf6a-499f-aeb1-e581687c76bd"
      },
      "execution_count": null,
      "outputs": [
        {
          "output_type": "execute_result",
          "data": {
            "text/plain": [
              "['I am (suffering) pain on left side of my chest?',\n",
              " 'I have been suffering from prostatitis, there is presence of pseudomonas fluorescens, need second opinion?',\n",
              " 'I have been suffering from prostatitis, there is presence of pseudomonas fluorescens, need second opinion?',\n",
              " 'I have been suffering from prostatitis, there is presence of pseudomonas fluorescens, need second opinion?',\n",
              " 'I have been suffering from prostatitis, there is presence of pseudomonas fluorescens, need second opinion?',\n",
              " 'I may have henoch schonlein purpura, need confirmation and advice?',\n",
              " 'I may have henoch schonlein purpura, need confirmation and advice?',\n",
              " 'I may have henoch schonlein purpura, need confirmation and advice?',\n",
              " 'I may have henoch schonlein purpura, need confirmation and advice?',\n",
              " 'There is bright red blood from my anus when I have bowel movement and when urinating?']"
            ]
          },
          "metadata": {},
          "execution_count": 33
        }
      ]
    },
    {
      "cell_type": "code",
      "source": [
        ""
      ],
      "metadata": {
        "id": "C1LcCzuLtmLQ"
      },
      "execution_count": null,
      "outputs": []
    }
  ]
}