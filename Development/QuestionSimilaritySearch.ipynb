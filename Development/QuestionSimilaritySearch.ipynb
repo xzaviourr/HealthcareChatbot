{
  "nbformat": 4,
  "nbformat_minor": 0,
  "metadata": {
    "colab": {
      "name": "QuestionSimilaritySearch.ipynb",
      "provenance": []
    },
    "kernelspec": {
      "name": "python3",
      "display_name": "Python 3"
    },
    "language_info": {
      "name": "python"
    }
  },
  "cells": [
    {
      "cell_type": "code",
      "source": [
        "!pip install sentence-transformers"
      ],
      "metadata": {
        "id": "lJncYnGmc7jQ"
      },
      "execution_count": null,
      "outputs": []
    },
    {
      "cell_type": "code",
      "execution_count": null,
      "metadata": {
        "id": "ZGotO3LAV6tZ"
      },
      "outputs": [],
      "source": [
        "import pandas as pd\n",
        "from sentence_transformers import SentenceTransformer\n",
        "from sklearn.metrics.pairwise import cosine_similarity\n",
        "import numpy as np"
      ]
    },
    {
      "cell_type": "code",
      "source": [
        "dataset = pd.read_json('https://raw.githubusercontent.com/LasseRegin/medical-question-answer-data/master/questionDoctorQAs.json')\n",
        "dataset.head()"
      ],
      "metadata": {
        "colab": {
          "base_uri": "https://localhost:8080/",
          "height": 206
        },
        "id": "YLbuDX46WNzD",
        "outputId": "23dc1927-c1c7-4bfd-963b-91ce34f86303"
      },
      "execution_count": null,
      "outputs": [
        {
          "output_type": "execute_result",
          "data": {
            "text/plain": [
              "                                              answer     answer_author  \\\n",
              "0  you can stay assured you are fine free of hiv....  Dr. Ayman Darrag   \n",
              "1                hi you are 100 % hiv free good luck    Dr Ahmed Fawzy   \n",
              "2  your time slots of the tests and the final res...          Dr.Honey   \n",
              "3  hi i see no labrum tear however i see acetabul...    Dr Ahmed Fawzy   \n",
              "4  no visible tear in labrum but obviously calcif...  Dr. Ayman Darrag   \n",
              "\n",
              "                                            question  \\\n",
              "0     is my anti hiv test conclusive or need retest?   \n",
              "1     is my anti hiv test conclusive or need retest?   \n",
              "2     is my anti hiv test conclusive or need retest?   \n",
              "3  i have some hip pain 9 weeks. had mra image re...   \n",
              "4  i have some hip pain 9 weeks. had mra image re...   \n",
              "\n",
              "                                       question_text  \\\n",
              "0     Is my Anti Hiv Test Conclusive or need retest?   \n",
              "1     Is my Anti Hiv Test Conclusive or need retest?   \n",
              "2     Is my Anti Hiv Test Conclusive or need retest?   \n",
              "3  I have some hip pain 9 weeks. Had MRA image re...   \n",
              "4  I have some hip pain 9 weeks. Had MRA image re...   \n",
              "\n",
              "                                     tags  \\\n",
              "0                              [hiv test]   \n",
              "1                              [hiv test]   \n",
              "2                              [hiv test]   \n",
              "3  [magnetic resonance angiography (mra)]   \n",
              "4  [magnetic resonance angiography (mra)]   \n",
              "\n",
              "                                                 url  \n",
              "0  https://questiondoctors.com/is-my-anti-hiv-tes...  \n",
              "1  https://questiondoctors.com/is-my-anti-hiv-tes...  \n",
              "2  https://questiondoctors.com/is-my-anti-hiv-tes...  \n",
              "3  https://questiondoctors.com/i-have-some-hip-pa...  \n",
              "4  https://questiondoctors.com/i-have-some-hip-pa...  "
            ],
            "text/html": [
              "\n",
              "  <div id=\"df-2e6979f3-a447-46cc-a688-4d7ae37d4d5b\">\n",
              "    <div class=\"colab-df-container\">\n",
              "      <div>\n",
              "<style scoped>\n",
              "    .dataframe tbody tr th:only-of-type {\n",
              "        vertical-align: middle;\n",
              "    }\n",
              "\n",
              "    .dataframe tbody tr th {\n",
              "        vertical-align: top;\n",
              "    }\n",
              "\n",
              "    .dataframe thead th {\n",
              "        text-align: right;\n",
              "    }\n",
              "</style>\n",
              "<table border=\"1\" class=\"dataframe\">\n",
              "  <thead>\n",
              "    <tr style=\"text-align: right;\">\n",
              "      <th></th>\n",
              "      <th>answer</th>\n",
              "      <th>answer_author</th>\n",
              "      <th>question</th>\n",
              "      <th>question_text</th>\n",
              "      <th>tags</th>\n",
              "      <th>url</th>\n",
              "    </tr>\n",
              "  </thead>\n",
              "  <tbody>\n",
              "    <tr>\n",
              "      <th>0</th>\n",
              "      <td>you can stay assured you are fine free of hiv....</td>\n",
              "      <td>Dr. Ayman Darrag</td>\n",
              "      <td>is my anti hiv test conclusive or need retest?</td>\n",
              "      <td>Is my Anti Hiv Test Conclusive or need retest?</td>\n",
              "      <td>[hiv test]</td>\n",
              "      <td>https://questiondoctors.com/is-my-anti-hiv-tes...</td>\n",
              "    </tr>\n",
              "    <tr>\n",
              "      <th>1</th>\n",
              "      <td>hi you are 100 % hiv free good luck</td>\n",
              "      <td>Dr Ahmed Fawzy</td>\n",
              "      <td>is my anti hiv test conclusive or need retest?</td>\n",
              "      <td>Is my Anti Hiv Test Conclusive or need retest?</td>\n",
              "      <td>[hiv test]</td>\n",
              "      <td>https://questiondoctors.com/is-my-anti-hiv-tes...</td>\n",
              "    </tr>\n",
              "    <tr>\n",
              "      <th>2</th>\n",
              "      <td>your time slots of the tests and the final res...</td>\n",
              "      <td>Dr.Honey</td>\n",
              "      <td>is my anti hiv test conclusive or need retest?</td>\n",
              "      <td>Is my Anti Hiv Test Conclusive or need retest?</td>\n",
              "      <td>[hiv test]</td>\n",
              "      <td>https://questiondoctors.com/is-my-anti-hiv-tes...</td>\n",
              "    </tr>\n",
              "    <tr>\n",
              "      <th>3</th>\n",
              "      <td>hi i see no labrum tear however i see acetabul...</td>\n",
              "      <td>Dr Ahmed Fawzy</td>\n",
              "      <td>i have some hip pain 9 weeks. had mra image re...</td>\n",
              "      <td>I have some hip pain 9 weeks. Had MRA image re...</td>\n",
              "      <td>[magnetic resonance angiography (mra)]</td>\n",
              "      <td>https://questiondoctors.com/i-have-some-hip-pa...</td>\n",
              "    </tr>\n",
              "    <tr>\n",
              "      <th>4</th>\n",
              "      <td>no visible tear in labrum but obviously calcif...</td>\n",
              "      <td>Dr. Ayman Darrag</td>\n",
              "      <td>i have some hip pain 9 weeks. had mra image re...</td>\n",
              "      <td>I have some hip pain 9 weeks. Had MRA image re...</td>\n",
              "      <td>[magnetic resonance angiography (mra)]</td>\n",
              "      <td>https://questiondoctors.com/i-have-some-hip-pa...</td>\n",
              "    </tr>\n",
              "  </tbody>\n",
              "</table>\n",
              "</div>\n",
              "      <button class=\"colab-df-convert\" onclick=\"convertToInteractive('df-2e6979f3-a447-46cc-a688-4d7ae37d4d5b')\"\n",
              "              title=\"Convert this dataframe to an interactive table.\"\n",
              "              style=\"display:none;\">\n",
              "        \n",
              "  <svg xmlns=\"http://www.w3.org/2000/svg\" height=\"24px\"viewBox=\"0 0 24 24\"\n",
              "       width=\"24px\">\n",
              "    <path d=\"M0 0h24v24H0V0z\" fill=\"none\"/>\n",
              "    <path d=\"M18.56 5.44l.94 2.06.94-2.06 2.06-.94-2.06-.94-.94-2.06-.94 2.06-2.06.94zm-11 1L8.5 8.5l.94-2.06 2.06-.94-2.06-.94L8.5 2.5l-.94 2.06-2.06.94zm10 10l.94 2.06.94-2.06 2.06-.94-2.06-.94-.94-2.06-.94 2.06-2.06.94z\"/><path d=\"M17.41 7.96l-1.37-1.37c-.4-.4-.92-.59-1.43-.59-.52 0-1.04.2-1.43.59L10.3 9.45l-7.72 7.72c-.78.78-.78 2.05 0 2.83L4 21.41c.39.39.9.59 1.41.59.51 0 1.02-.2 1.41-.59l7.78-7.78 2.81-2.81c.8-.78.8-2.07 0-2.86zM5.41 20L4 18.59l7.72-7.72 1.47 1.35L5.41 20z\"/>\n",
              "  </svg>\n",
              "      </button>\n",
              "      \n",
              "  <style>\n",
              "    .colab-df-container {\n",
              "      display:flex;\n",
              "      flex-wrap:wrap;\n",
              "      gap: 12px;\n",
              "    }\n",
              "\n",
              "    .colab-df-convert {\n",
              "      background-color: #E8F0FE;\n",
              "      border: none;\n",
              "      border-radius: 50%;\n",
              "      cursor: pointer;\n",
              "      display: none;\n",
              "      fill: #1967D2;\n",
              "      height: 32px;\n",
              "      padding: 0 0 0 0;\n",
              "      width: 32px;\n",
              "    }\n",
              "\n",
              "    .colab-df-convert:hover {\n",
              "      background-color: #E2EBFA;\n",
              "      box-shadow: 0px 1px 2px rgba(60, 64, 67, 0.3), 0px 1px 3px 1px rgba(60, 64, 67, 0.15);\n",
              "      fill: #174EA6;\n",
              "    }\n",
              "\n",
              "    [theme=dark] .colab-df-convert {\n",
              "      background-color: #3B4455;\n",
              "      fill: #D2E3FC;\n",
              "    }\n",
              "\n",
              "    [theme=dark] .colab-df-convert:hover {\n",
              "      background-color: #434B5C;\n",
              "      box-shadow: 0px 1px 3px 1px rgba(0, 0, 0, 0.15);\n",
              "      filter: drop-shadow(0px 1px 2px rgba(0, 0, 0, 0.3));\n",
              "      fill: #FFFFFF;\n",
              "    }\n",
              "  </style>\n",
              "\n",
              "      <script>\n",
              "        const buttonEl =\n",
              "          document.querySelector('#df-2e6979f3-a447-46cc-a688-4d7ae37d4d5b button.colab-df-convert');\n",
              "        buttonEl.style.display =\n",
              "          google.colab.kernel.accessAllowed ? 'block' : 'none';\n",
              "\n",
              "        async function convertToInteractive(key) {\n",
              "          const element = document.querySelector('#df-2e6979f3-a447-46cc-a688-4d7ae37d4d5b');\n",
              "          const dataTable =\n",
              "            await google.colab.kernel.invokeFunction('convertToInteractive',\n",
              "                                                     [key], {});\n",
              "          if (!dataTable) return;\n",
              "\n",
              "          const docLinkHtml = 'Like what you see? Visit the ' +\n",
              "            '<a target=\"_blank\" href=https://colab.research.google.com/notebooks/data_table.ipynb>data table notebook</a>'\n",
              "            + ' to learn more about interactive tables.';\n",
              "          element.innerHTML = '';\n",
              "          dataTable['output_type'] = 'display_data';\n",
              "          await google.colab.output.renderOutput(dataTable, element);\n",
              "          const docLink = document.createElement('div');\n",
              "          docLink.innerHTML = docLinkHtml;\n",
              "          element.appendChild(docLink);\n",
              "        }\n",
              "      </script>\n",
              "    </div>\n",
              "  </div>\n",
              "  "
            ]
          },
          "metadata": {},
          "execution_count": 43
        }
      ]
    },
    {
      "cell_type": "code",
      "source": [
        "model = SentenceTransformer('bert-base-nli-mean-tokens')"
      ],
      "metadata": {
        "id": "X1JOpHV4WRoi"
      },
      "execution_count": null,
      "outputs": []
    },
    {
      "cell_type": "code",
      "source": [
        "questions = dataset['question']\n",
        "questions.head()"
      ],
      "metadata": {
        "colab": {
          "base_uri": "https://localhost:8080/"
        },
        "id": "L2LEt4c_X47h",
        "outputId": "eb99a7d6-c167-4687-8a1f-f88ac2ebbbd2"
      },
      "execution_count": null,
      "outputs": [
        {
          "output_type": "execute_result",
          "data": {
            "text/plain": [
              "0       is my anti hiv test conclusive or need retest?\n",
              "1       is my anti hiv test conclusive or need retest?\n",
              "2       is my anti hiv test conclusive or need retest?\n",
              "3    i have some hip pain 9 weeks. had mra image re...\n",
              "4    i have some hip pain 9 weeks. had mra image re...\n",
              "Name: question, dtype: object"
            ]
          },
          "metadata": {},
          "execution_count": 45
        }
      ]
    },
    {
      "cell_type": "code",
      "source": [
        "questions = questions.unique()\n",
        "questions.shape"
      ],
      "metadata": {
        "colab": {
          "base_uri": "https://localhost:8080/"
        },
        "id": "OEWP_Bw8Yka4",
        "outputId": "e17708ae-2b66-4a14-dbfc-ad69bc61471b"
      },
      "execution_count": null,
      "outputs": [
        {
          "output_type": "execute_result",
          "data": {
            "text/plain": [
              "(1890,)"
            ]
          },
          "metadata": {},
          "execution_count": 46
        }
      ]
    },
    {
      "cell_type": "code",
      "source": [
        "question_embeddings = model.encode(questions)"
      ],
      "metadata": {
        "id": "KTKBPgXNYGNI"
      },
      "execution_count": null,
      "outputs": []
    },
    {
      "cell_type": "code",
      "source": [
        "question_embeddings.shape"
      ],
      "metadata": {
        "colab": {
          "base_uri": "https://localhost:8080/"
        },
        "id": "wCHP8P42duD3",
        "outputId": "ad133210-e153-47de-c37c-270ce3713b92"
      },
      "execution_count": null,
      "outputs": [
        {
          "output_type": "execute_result",
          "data": {
            "text/plain": [
              "(1890, 768)"
            ]
          },
          "metadata": {},
          "execution_count": 48
        }
      ]
    },
    {
      "cell_type": "code",
      "source": [
        "test_sentence = \"What is my HIV result ?\"\n",
        "test_embedding = model.encode([test_sentence])\n",
        "test_embedding.shape"
      ],
      "metadata": {
        "colab": {
          "base_uri": "https://localhost:8080/"
        },
        "id": "l6Cod8_UZNa1",
        "outputId": "b446e4f2-e191-4e07-9e96-e0fff7f29535"
      },
      "execution_count": null,
      "outputs": [
        {
          "output_type": "execute_result",
          "data": {
            "text/plain": [
              "(1, 768)"
            ]
          },
          "metadata": {},
          "execution_count": 49
        }
      ]
    },
    {
      "cell_type": "code",
      "source": [
        "similarity_array = cosine_similarity(\n",
        "    [test_embedding[0]],\n",
        "    question_embeddings\n",
        ")\n",
        "\n",
        "question_array = questions.copy()\n",
        "\n",
        "df = pd.DataFrame(np.vstack((question_array, similarity_array)).transpose(), columns=['question', 'score'])\n",
        "df.head()"
      ],
      "metadata": {
        "colab": {
          "base_uri": "https://localhost:8080/",
          "height": 206
        },
        "id": "-lFl2wnLZjOT",
        "outputId": "2b6e8c0a-2e30-4ffb-c7b9-f3fe9a8b863d"
      },
      "execution_count": null,
      "outputs": [
        {
          "output_type": "execute_result",
          "data": {
            "text/plain": [
              "                                            question     score\n",
              "0     is my anti hiv test conclusive or need retest?  0.770897\n",
              "1  i have some hip pain 9 weeks. had mra image re...  0.449711\n",
              "2  i developed breathing difficulties approx 2 ye...    0.3278\n",
              "3  low resting heart rate can it be a secondary a...  0.537536\n",
              "4  i was recently diagnosed with an atypical mole...  0.566107"
            ],
            "text/html": [
              "\n",
              "  <div id=\"df-6dcffd1a-cb2f-4852-90da-bc2420b80a5f\">\n",
              "    <div class=\"colab-df-container\">\n",
              "      <div>\n",
              "<style scoped>\n",
              "    .dataframe tbody tr th:only-of-type {\n",
              "        vertical-align: middle;\n",
              "    }\n",
              "\n",
              "    .dataframe tbody tr th {\n",
              "        vertical-align: top;\n",
              "    }\n",
              "\n",
              "    .dataframe thead th {\n",
              "        text-align: right;\n",
              "    }\n",
              "</style>\n",
              "<table border=\"1\" class=\"dataframe\">\n",
              "  <thead>\n",
              "    <tr style=\"text-align: right;\">\n",
              "      <th></th>\n",
              "      <th>question</th>\n",
              "      <th>score</th>\n",
              "    </tr>\n",
              "  </thead>\n",
              "  <tbody>\n",
              "    <tr>\n",
              "      <th>0</th>\n",
              "      <td>is my anti hiv test conclusive or need retest?</td>\n",
              "      <td>0.770897</td>\n",
              "    </tr>\n",
              "    <tr>\n",
              "      <th>1</th>\n",
              "      <td>i have some hip pain 9 weeks. had mra image re...</td>\n",
              "      <td>0.449711</td>\n",
              "    </tr>\n",
              "    <tr>\n",
              "      <th>2</th>\n",
              "      <td>i developed breathing difficulties approx 2 ye...</td>\n",
              "      <td>0.3278</td>\n",
              "    </tr>\n",
              "    <tr>\n",
              "      <th>3</th>\n",
              "      <td>low resting heart rate can it be a secondary a...</td>\n",
              "      <td>0.537536</td>\n",
              "    </tr>\n",
              "    <tr>\n",
              "      <th>4</th>\n",
              "      <td>i was recently diagnosed with an atypical mole...</td>\n",
              "      <td>0.566107</td>\n",
              "    </tr>\n",
              "  </tbody>\n",
              "</table>\n",
              "</div>\n",
              "      <button class=\"colab-df-convert\" onclick=\"convertToInteractive('df-6dcffd1a-cb2f-4852-90da-bc2420b80a5f')\"\n",
              "              title=\"Convert this dataframe to an interactive table.\"\n",
              "              style=\"display:none;\">\n",
              "        \n",
              "  <svg xmlns=\"http://www.w3.org/2000/svg\" height=\"24px\"viewBox=\"0 0 24 24\"\n",
              "       width=\"24px\">\n",
              "    <path d=\"M0 0h24v24H0V0z\" fill=\"none\"/>\n",
              "    <path d=\"M18.56 5.44l.94 2.06.94-2.06 2.06-.94-2.06-.94-.94-2.06-.94 2.06-2.06.94zm-11 1L8.5 8.5l.94-2.06 2.06-.94-2.06-.94L8.5 2.5l-.94 2.06-2.06.94zm10 10l.94 2.06.94-2.06 2.06-.94-2.06-.94-.94-2.06-.94 2.06-2.06.94z\"/><path d=\"M17.41 7.96l-1.37-1.37c-.4-.4-.92-.59-1.43-.59-.52 0-1.04.2-1.43.59L10.3 9.45l-7.72 7.72c-.78.78-.78 2.05 0 2.83L4 21.41c.39.39.9.59 1.41.59.51 0 1.02-.2 1.41-.59l7.78-7.78 2.81-2.81c.8-.78.8-2.07 0-2.86zM5.41 20L4 18.59l7.72-7.72 1.47 1.35L5.41 20z\"/>\n",
              "  </svg>\n",
              "      </button>\n",
              "      \n",
              "  <style>\n",
              "    .colab-df-container {\n",
              "      display:flex;\n",
              "      flex-wrap:wrap;\n",
              "      gap: 12px;\n",
              "    }\n",
              "\n",
              "    .colab-df-convert {\n",
              "      background-color: #E8F0FE;\n",
              "      border: none;\n",
              "      border-radius: 50%;\n",
              "      cursor: pointer;\n",
              "      display: none;\n",
              "      fill: #1967D2;\n",
              "      height: 32px;\n",
              "      padding: 0 0 0 0;\n",
              "      width: 32px;\n",
              "    }\n",
              "\n",
              "    .colab-df-convert:hover {\n",
              "      background-color: #E2EBFA;\n",
              "      box-shadow: 0px 1px 2px rgba(60, 64, 67, 0.3), 0px 1px 3px 1px rgba(60, 64, 67, 0.15);\n",
              "      fill: #174EA6;\n",
              "    }\n",
              "\n",
              "    [theme=dark] .colab-df-convert {\n",
              "      background-color: #3B4455;\n",
              "      fill: #D2E3FC;\n",
              "    }\n",
              "\n",
              "    [theme=dark] .colab-df-convert:hover {\n",
              "      background-color: #434B5C;\n",
              "      box-shadow: 0px 1px 3px 1px rgba(0, 0, 0, 0.15);\n",
              "      filter: drop-shadow(0px 1px 2px rgba(0, 0, 0, 0.3));\n",
              "      fill: #FFFFFF;\n",
              "    }\n",
              "  </style>\n",
              "\n",
              "      <script>\n",
              "        const buttonEl =\n",
              "          document.querySelector('#df-6dcffd1a-cb2f-4852-90da-bc2420b80a5f button.colab-df-convert');\n",
              "        buttonEl.style.display =\n",
              "          google.colab.kernel.accessAllowed ? 'block' : 'none';\n",
              "\n",
              "        async function convertToInteractive(key) {\n",
              "          const element = document.querySelector('#df-6dcffd1a-cb2f-4852-90da-bc2420b80a5f');\n",
              "          const dataTable =\n",
              "            await google.colab.kernel.invokeFunction('convertToInteractive',\n",
              "                                                     [key], {});\n",
              "          if (!dataTable) return;\n",
              "\n",
              "          const docLinkHtml = 'Like what you see? Visit the ' +\n",
              "            '<a target=\"_blank\" href=https://colab.research.google.com/notebooks/data_table.ipynb>data table notebook</a>'\n",
              "            + ' to learn more about interactive tables.';\n",
              "          element.innerHTML = '';\n",
              "          dataTable['output_type'] = 'display_data';\n",
              "          await google.colab.output.renderOutput(dataTable, element);\n",
              "          const docLink = document.createElement('div');\n",
              "          docLink.innerHTML = docLinkHtml;\n",
              "          element.appendChild(docLink);\n",
              "        }\n",
              "      </script>\n",
              "    </div>\n",
              "  </div>\n",
              "  "
            ]
          },
          "metadata": {},
          "execution_count": 50
        }
      ]
    },
    {
      "cell_type": "code",
      "source": [
        "df.sort_values(by=['score'], ascending=False)"
      ],
      "metadata": {
        "colab": {
          "base_uri": "https://localhost:8080/",
          "height": 424
        },
        "id": "SQ10yVDtaEiy",
        "outputId": "6e389434-3159-4d61-e4fe-199d32bf0548"
      },
      "execution_count": null,
      "outputs": [
        {
          "output_type": "execute_result",
          "data": {
            "text/plain": [
              "                                               question     score\n",
              "1878                                      hiv and aids?  0.879062\n",
              "1238             can i get hiv by using infected towel?  0.806983\n",
              "0        is my anti hiv test conclusive or need retest?  0.770897\n",
              "530   i have severe peripheral neuropathy symptoms a...  0.743243\n",
              "1660  i’m a nurse i may have pricked myself with a h...  0.738458\n",
              "...                                                 ...       ...\n",
              "233   i take prilosec 20mgs (otc) and have taken thi...  0.144776\n",
              "1695                    pure blood in urine…quite a lot  0.132295\n",
              "526   had 8 teeth removed swelling has increased eve...  0.127342\n",
              "1818  for the past week now my heart has been poundi...  0.117249\n",
              "1840                              large growth on foot.  0.067571\n",
              "\n",
              "[1890 rows x 2 columns]"
            ],
            "text/html": [
              "\n",
              "  <div id=\"df-f2b6559b-2c21-4678-b2b7-5feffb1d7055\">\n",
              "    <div class=\"colab-df-container\">\n",
              "      <div>\n",
              "<style scoped>\n",
              "    .dataframe tbody tr th:only-of-type {\n",
              "        vertical-align: middle;\n",
              "    }\n",
              "\n",
              "    .dataframe tbody tr th {\n",
              "        vertical-align: top;\n",
              "    }\n",
              "\n",
              "    .dataframe thead th {\n",
              "        text-align: right;\n",
              "    }\n",
              "</style>\n",
              "<table border=\"1\" class=\"dataframe\">\n",
              "  <thead>\n",
              "    <tr style=\"text-align: right;\">\n",
              "      <th></th>\n",
              "      <th>question</th>\n",
              "      <th>score</th>\n",
              "    </tr>\n",
              "  </thead>\n",
              "  <tbody>\n",
              "    <tr>\n",
              "      <th>1878</th>\n",
              "      <td>hiv and aids?</td>\n",
              "      <td>0.879062</td>\n",
              "    </tr>\n",
              "    <tr>\n",
              "      <th>1238</th>\n",
              "      <td>can i get hiv by using infected towel?</td>\n",
              "      <td>0.806983</td>\n",
              "    </tr>\n",
              "    <tr>\n",
              "      <th>0</th>\n",
              "      <td>is my anti hiv test conclusive or need retest?</td>\n",
              "      <td>0.770897</td>\n",
              "    </tr>\n",
              "    <tr>\n",
              "      <th>530</th>\n",
              "      <td>i have severe peripheral neuropathy symptoms a...</td>\n",
              "      <td>0.743243</td>\n",
              "    </tr>\n",
              "    <tr>\n",
              "      <th>1660</th>\n",
              "      <td>i’m a nurse i may have pricked myself with a h...</td>\n",
              "      <td>0.738458</td>\n",
              "    </tr>\n",
              "    <tr>\n",
              "      <th>...</th>\n",
              "      <td>...</td>\n",
              "      <td>...</td>\n",
              "    </tr>\n",
              "    <tr>\n",
              "      <th>233</th>\n",
              "      <td>i take prilosec 20mgs (otc) and have taken thi...</td>\n",
              "      <td>0.144776</td>\n",
              "    </tr>\n",
              "    <tr>\n",
              "      <th>1695</th>\n",
              "      <td>pure blood in urine…quite a lot</td>\n",
              "      <td>0.132295</td>\n",
              "    </tr>\n",
              "    <tr>\n",
              "      <th>526</th>\n",
              "      <td>had 8 teeth removed swelling has increased eve...</td>\n",
              "      <td>0.127342</td>\n",
              "    </tr>\n",
              "    <tr>\n",
              "      <th>1818</th>\n",
              "      <td>for the past week now my heart has been poundi...</td>\n",
              "      <td>0.117249</td>\n",
              "    </tr>\n",
              "    <tr>\n",
              "      <th>1840</th>\n",
              "      <td>large growth on foot.</td>\n",
              "      <td>0.067571</td>\n",
              "    </tr>\n",
              "  </tbody>\n",
              "</table>\n",
              "<p>1890 rows × 2 columns</p>\n",
              "</div>\n",
              "      <button class=\"colab-df-convert\" onclick=\"convertToInteractive('df-f2b6559b-2c21-4678-b2b7-5feffb1d7055')\"\n",
              "              title=\"Convert this dataframe to an interactive table.\"\n",
              "              style=\"display:none;\">\n",
              "        \n",
              "  <svg xmlns=\"http://www.w3.org/2000/svg\" height=\"24px\"viewBox=\"0 0 24 24\"\n",
              "       width=\"24px\">\n",
              "    <path d=\"M0 0h24v24H0V0z\" fill=\"none\"/>\n",
              "    <path d=\"M18.56 5.44l.94 2.06.94-2.06 2.06-.94-2.06-.94-.94-2.06-.94 2.06-2.06.94zm-11 1L8.5 8.5l.94-2.06 2.06-.94-2.06-.94L8.5 2.5l-.94 2.06-2.06.94zm10 10l.94 2.06.94-2.06 2.06-.94-2.06-.94-.94-2.06-.94 2.06-2.06.94z\"/><path d=\"M17.41 7.96l-1.37-1.37c-.4-.4-.92-.59-1.43-.59-.52 0-1.04.2-1.43.59L10.3 9.45l-7.72 7.72c-.78.78-.78 2.05 0 2.83L4 21.41c.39.39.9.59 1.41.59.51 0 1.02-.2 1.41-.59l7.78-7.78 2.81-2.81c.8-.78.8-2.07 0-2.86zM5.41 20L4 18.59l7.72-7.72 1.47 1.35L5.41 20z\"/>\n",
              "  </svg>\n",
              "      </button>\n",
              "      \n",
              "  <style>\n",
              "    .colab-df-container {\n",
              "      display:flex;\n",
              "      flex-wrap:wrap;\n",
              "      gap: 12px;\n",
              "    }\n",
              "\n",
              "    .colab-df-convert {\n",
              "      background-color: #E8F0FE;\n",
              "      border: none;\n",
              "      border-radius: 50%;\n",
              "      cursor: pointer;\n",
              "      display: none;\n",
              "      fill: #1967D2;\n",
              "      height: 32px;\n",
              "      padding: 0 0 0 0;\n",
              "      width: 32px;\n",
              "    }\n",
              "\n",
              "    .colab-df-convert:hover {\n",
              "      background-color: #E2EBFA;\n",
              "      box-shadow: 0px 1px 2px rgba(60, 64, 67, 0.3), 0px 1px 3px 1px rgba(60, 64, 67, 0.15);\n",
              "      fill: #174EA6;\n",
              "    }\n",
              "\n",
              "    [theme=dark] .colab-df-convert {\n",
              "      background-color: #3B4455;\n",
              "      fill: #D2E3FC;\n",
              "    }\n",
              "\n",
              "    [theme=dark] .colab-df-convert:hover {\n",
              "      background-color: #434B5C;\n",
              "      box-shadow: 0px 1px 3px 1px rgba(0, 0, 0, 0.15);\n",
              "      filter: drop-shadow(0px 1px 2px rgba(0, 0, 0, 0.3));\n",
              "      fill: #FFFFFF;\n",
              "    }\n",
              "  </style>\n",
              "\n",
              "      <script>\n",
              "        const buttonEl =\n",
              "          document.querySelector('#df-f2b6559b-2c21-4678-b2b7-5feffb1d7055 button.colab-df-convert');\n",
              "        buttonEl.style.display =\n",
              "          google.colab.kernel.accessAllowed ? 'block' : 'none';\n",
              "\n",
              "        async function convertToInteractive(key) {\n",
              "          const element = document.querySelector('#df-f2b6559b-2c21-4678-b2b7-5feffb1d7055');\n",
              "          const dataTable =\n",
              "            await google.colab.kernel.invokeFunction('convertToInteractive',\n",
              "                                                     [key], {});\n",
              "          if (!dataTable) return;\n",
              "\n",
              "          const docLinkHtml = 'Like what you see? Visit the ' +\n",
              "            '<a target=\"_blank\" href=https://colab.research.google.com/notebooks/data_table.ipynb>data table notebook</a>'\n",
              "            + ' to learn more about interactive tables.';\n",
              "          element.innerHTML = '';\n",
              "          dataTable['output_type'] = 'display_data';\n",
              "          await google.colab.output.renderOutput(dataTable, element);\n",
              "          const docLink = document.createElement('div');\n",
              "          docLink.innerHTML = docLinkHtml;\n",
              "          element.appendChild(docLink);\n",
              "        }\n",
              "      </script>\n",
              "    </div>\n",
              "  </div>\n",
              "  "
            ]
          },
          "metadata": {},
          "execution_count": 51
        }
      ]
    },
    {
      "cell_type": "code",
      "source": [
        "from sklearn.cluster import KMeans\n",
        "\n",
        "n_clusters = 1000\n",
        "kmeans = KMeans(n_clusters = n_clusters).fit(question_embeddings)"
      ],
      "metadata": {
        "id": "s001uwO8cfBf"
      },
      "execution_count": null,
      "outputs": []
    },
    {
      "cell_type": "code",
      "source": [
        "indexes = np.where(kmeans.labels_ == 1)\n",
        "questions[indexes]"
      ],
      "metadata": {
        "colab": {
          "base_uri": "https://localhost:8080/"
        },
        "id": "iIs0TY9Nq4M1",
        "outputId": "28c9db86-c3f1-4de4-d376-74267ec32371"
      },
      "execution_count": null,
      "outputs": [
        {
          "output_type": "execute_result",
          "data": {
            "text/plain": [
              "array(['i’ve been having severe headaches and my mouth feels very dry and bloated tummy?',\n",
              "       'i have been experiencing very shallow breathing shivers legs feel numb?',\n",
              "       'feel very depressed fingernails and toenails very brittle. hair loss. hair is kinky straw like. pale skin. insomnia. suffer from copper deficiency.',\n",
              "       'i have a strange medical problem feel weak fatigued dizzy chilled and cloudy headed terrible skin sores?',\n",
              "       'i have numbness in my hands and feet frequent urination forgetfulness and anxiety. what is wrong with me?'],\n",
              "      dtype=object)"
            ]
          },
          "metadata": {},
          "execution_count": 64
        }
      ]
    },
    {
      "cell_type": "code",
      "source": [
        "indexes = np.where(kmeans.labels_ == 2)\n",
        "questions[indexes]"
      ],
      "metadata": {
        "colab": {
          "base_uri": "https://localhost:8080/"
        },
        "id": "O_OUU-0TrQQK",
        "outputId": "b8a48fc0-5088-4a31-8836-ac1d18eaa412"
      },
      "execution_count": null,
      "outputs": [
        {
          "output_type": "execute_result",
          "data": {
            "text/plain": [
              "array(['two years ago i was diagnosed with colon cancer?',\n",
              "       'i’m 31 years old i’ve been diagnosed with digital papillary carcinoma what are the treatments?',\n",
              "       'i am a 32 year old female diagnosed with gaucher disease type 1 help me understand my test results?',\n",
              "       'my husband is 29 and has facial paralysis may be developing synkinesis what can be done next?'],\n",
              "      dtype=object)"
            ]
          },
          "metadata": {},
          "execution_count": 65
        }
      ]
    },
    {
      "cell_type": "markdown",
      "source": [
        "TF-IDF"
      ],
      "metadata": {
        "id": "8Bkw37W2toJ-"
      }
    },
    {
      "cell_type": "code",
      "source": [
        "nltk.download('popular', quiet=True) # for downloading packages\n",
        "nltk.download('punkt') # first-time use only\n",
        "nltk.download('wordnet') # first-time use only"
      ],
      "metadata": {
        "colab": {
          "base_uri": "https://localhost:8080/"
        },
        "id": "yB3mR1YSuDH0",
        "outputId": "04d7f6ad-8420-4f8a-83a0-33ffad9d5fb5"
      },
      "execution_count": null,
      "outputs": [
        {
          "output_type": "stream",
          "name": "stdout",
          "text": [
            "[nltk_data] Downloading package punkt to /root/nltk_data...\n",
            "[nltk_data]   Package punkt is already up-to-date!\n",
            "[nltk_data] Downloading package wordnet to /root/nltk_data...\n",
            "[nltk_data]   Package wordnet is already up-to-date!\n"
          ]
        },
        {
          "output_type": "execute_result",
          "data": {
            "text/plain": [
              "True"
            ]
          },
          "metadata": {},
          "execution_count": 67
        }
      ]
    },
    {
      "cell_type": "code",
      "source": [
        "from sklearn.feature_extraction.text import TfidfVectorizer\n",
        "import nltk\n",
        "import string\n",
        "\n",
        "lemmer = nltk.stem.WordNetLemmatizer()\n",
        "#WordNet is a semantically-oriented dictionary of English included in NLTK.\n",
        "def LemTokens(word_tokens):\n",
        "    return [lemmer.lemmatize(token) for token in word_tokens]\n",
        "remove_punct_dict = dict((ord(punct), None) for punct in string.punctuation)\n",
        "\n",
        "def LemNormalize(text):\n",
        "    return LemTokens(nltk.word_tokenize(text.lower().translate(remove_punct_dict)))\n",
        "\n",
        "\n",
        "TfidfVec = TfidfVectorizer(tokenizer=LemNormalize, stop_words='english')\n",
        "tfidf = TfidfVec.fit_transform(questions)   "
      ],
      "metadata": {
        "colab": {
          "base_uri": "https://localhost:8080/"
        },
        "id": "ZgIlGQYRr-6S",
        "outputId": "564b84a4-806e-4715-ff2a-e9a4f5ab5696"
      },
      "execution_count": null,
      "outputs": [
        {
          "output_type": "stream",
          "name": "stderr",
          "text": [
            "/usr/local/lib/python3.7/dist-packages/sklearn/feature_extraction/text.py:401: UserWarning: Your stop_words may be inconsistent with your preprocessing. Tokenizing the stop words generated tokens ['ha', 'le', 'u', 'wa'] not in stop_words.\n",
            "  % sorted(inconsistent)\n"
          ]
        }
      ]
    },
    {
      "cell_type": "code",
      "source": [
        "tfidf.shape"
      ],
      "metadata": {
        "colab": {
          "base_uri": "https://localhost:8080/"
        },
        "id": "2xkNWzStt92D",
        "outputId": "f9c4d18c-b407-4a2a-a728-d2004c5c332c"
      },
      "execution_count": null,
      "outputs": [
        {
          "output_type": "execute_result",
          "data": {
            "text/plain": [
              "(1890, 3352)"
            ]
          },
          "metadata": {},
          "execution_count": 70
        }
      ]
    },
    {
      "cell_type": "code",
      "source": [
        "n_clusters_tfidf = 10\n",
        "kmeans_tfidf = KMeans(n_clusters = n_clusters).fit(tfidf)"
      ],
      "metadata": {
        "id": "5V5fmqdIuJ6Y"
      },
      "execution_count": null,
      "outputs": []
    },
    {
      "cell_type": "code",
      "source": [
        "indexes = np.where(kmeans_tfidf.labels_ == 1)\n",
        "questions[indexes]"
      ],
      "metadata": {
        "colab": {
          "base_uri": "https://localhost:8080/"
        },
        "id": "lvHf36HwucEr",
        "outputId": "7cdabb5a-a318-4e88-dfbb-95a02b5a7f86"
      },
      "execution_count": null,
      "outputs": [
        {
          "output_type": "execute_result",
          "data": {
            "text/plain": [
              "array(['i have struggled with a urinary tract infection (uti) been on antibiotics 3 times?',\n",
              "       'i have short urinary tract (yuretra) and also burning in urinary tract. what medicine is good?',\n",
              "       'having recurrent urinary tract infections (utis) this has been going on for the last 3 years?',\n",
              "       'abdominal pain…is it a urinary tract infection?'], dtype=object)"
            ]
          },
          "metadata": {},
          "execution_count": 72
        }
      ]
    },
    {
      "cell_type": "code",
      "source": [
        "indexes = np.where(kmeans_tfidf.labels_ == 2)\n",
        "questions[indexes]"
      ],
      "metadata": {
        "colab": {
          "base_uri": "https://localhost:8080/"
        },
        "id": "aVojW3xAukjw",
        "outputId": "13307a68-0bda-4054-de39-45dec14caa96"
      },
      "execution_count": null,
      "outputs": [
        {
          "output_type": "execute_result",
          "data": {
            "text/plain": [
              "array(['my eldest daughter is suffering excruciating pain need second opinion?',\n",
              "       'i have been suffering from prostatitis there is presence of pseudomonas fluorescens need second opinion?'],\n",
              "      dtype=object)"
            ]
          },
          "metadata": {},
          "execution_count": 74
        }
      ]
    },
    {
      "cell_type": "code",
      "source": [
        "indexes = np.where(kmeans_tfidf.labels_ == 3)\n",
        "questions[indexes]"
      ],
      "metadata": {
        "colab": {
          "base_uri": "https://localhost:8080/"
        },
        "id": "F0wrkw-MumcE",
        "outputId": "3536ec2a-43f8-4b16-f96a-d17071635b61"
      },
      "execution_count": null,
      "outputs": [
        {
          "output_type": "execute_result",
          "data": {
            "text/plain": [
              "array(['i started with fever throat pain getting worse worried my doctor not giving me right treatment',\n",
              "       'i have scoliosis i’m worried about it getting worse?'],\n",
              "      dtype=object)"
            ]
          },
          "metadata": {},
          "execution_count": 75
        }
      ]
    },
    {
      "cell_type": "code",
      "source": [
        "indexes = np.where(kmeans_tfidf.labels_ == 4)\n",
        "questions[indexes]"
      ],
      "metadata": {
        "colab": {
          "base_uri": "https://localhost:8080/"
        },
        "id": "FCQ4grlHu0-7",
        "outputId": "f618b1f0-c133-47f8-8ae2-e5f729aa407c"
      },
      "execution_count": null,
      "outputs": [
        {
          "output_type": "execute_result",
          "data": {
            "text/plain": [
              "array(['i have a constant dull pain in my right upper chest about even with my armpit?',\n",
              "       'i have pain higher up on the left side of my chest and in my left armpit',\n",
              "       'i have chronic pain on the left side of my back that spreads to the left side of my stomach?'],\n",
              "      dtype=object)"
            ]
          },
          "metadata": {},
          "execution_count": 76
        }
      ]
    },
    {
      "cell_type": "code",
      "source": [
        "indexes = np.where(kmeans_tfidf.labels_ == 9)\n",
        "questions[indexes]"
      ],
      "metadata": {
        "colab": {
          "base_uri": "https://localhost:8080/"
        },
        "id": "OwQfxYqTu6mW",
        "outputId": "1cf744a5-e391-479c-ff89-eb764742b886"
      },
      "execution_count": null,
      "outputs": [
        {
          "output_type": "execute_result",
          "data": {
            "text/plain": [
              "array(['i’ve been diagnosed with relapsing-remitting multiple sclerosis (rrms) losing weight can it be lyme disease?',\n",
              "       'i’ve been diagnosed with ms (multiple sclerosis)',\n",
              "       'i’m 31 years old i’ve been diagnosed with digital papillary carcinoma what are the treatments?',\n",
              "       'i have strange symptoms is it multiple sclerosis (ms) or amyotrophic lateral sclerosis (als)-lou gehrig’s disease?',\n",
              "       '23 years old multiple sclerosis (ms) patient for about 10 years is medication necessary?',\n",
              "       'i have suffered from random intermittent neuropathic pain is it early symtoms of multiple sclerosis (ms)?',\n",
              "       'do i have multiple sclerosis i’ve been having a lot of pain in my legs and a lot of muscle spasms?',\n",
              "       'i am deteriorating quickly – do i have multiple sclerosis (ms)?'],\n",
              "      dtype=object)"
            ]
          },
          "metadata": {},
          "execution_count": 77
        }
      ]
    },
    {
      "cell_type": "code",
      "source": [
        "tfidf[indexes].argmax(axis=1)"
      ],
      "metadata": {
        "colab": {
          "base_uri": "https://localhost:8080/"
        },
        "id": "Vf9bkeqku9pG",
        "outputId": "2dc4cb88-df9f-4bbe-884b-8cd6bdef5796"
      },
      "execution_count": null,
      "outputs": [
        {
          "output_type": "execute_result",
          "data": {
            "text/plain": [
              "matrix([[2479],\n",
              "        [2621],\n",
              "        [ 925],\n",
              "        [2621],\n",
              "        [2023],\n",
              "        [1026],\n",
              "        [1819],\n",
              "        [ 890]])"
            ]
          },
          "metadata": {},
          "execution_count": 80
        }
      ]
    },
    {
      "cell_type": "code",
      "source": [
        "tfidf.shape"
      ],
      "metadata": {
        "colab": {
          "base_uri": "https://localhost:8080/"
        },
        "id": "uOdF19knw3bs",
        "outputId": "a1d821ef-0c3f-461b-87a8-0e917a8f5b33"
      },
      "execution_count": null,
      "outputs": [
        {
          "output_type": "execute_result",
          "data": {
            "text/plain": [
              "(1890, 3352)"
            ]
          },
          "metadata": {},
          "execution_count": 88
        }
      ]
    },
    {
      "cell_type": "code",
      "source": [
        "len(TfidfVec.get_feature_names())"
      ],
      "metadata": {
        "colab": {
          "base_uri": "https://localhost:8080/"
        },
        "id": "uqqhHXu_wJrg",
        "outputId": "0fa67868-7994-4dc4-f6cd-8bfc8a9e5f9f"
      },
      "execution_count": null,
      "outputs": [
        {
          "output_type": "stream",
          "name": "stderr",
          "text": [
            "/usr/local/lib/python3.7/dist-packages/sklearn/utils/deprecation.py:87: FutureWarning: Function get_feature_names is deprecated; get_feature_names is deprecated in 1.0 and will be removed in 1.2. Please use get_feature_names_out instead.\n",
            "  warnings.warn(msg, category=FutureWarning)\n"
          ]
        },
        {
          "output_type": "execute_result",
          "data": {
            "text/plain": [
              "3352"
            ]
          },
          "metadata": {},
          "execution_count": 87
        }
      ]
    },
    {
      "cell_type": "code",
      "source": [
        "features = np.array(TfidfVec.get_feature_names())\n",
        "max_value_indexes = np.squeeze(np.asarray(tfidf[indexes].argmax(axis=1)))\n",
        "features[max_value_indexes]"
      ],
      "metadata": {
        "colab": {
          "base_uri": "https://localhost:8080/"
        },
        "id": "9eMtHhe0wbEA",
        "outputId": "abf89825-528b-4e35-9735-13f3d2a9e713"
      },
      "execution_count": null,
      "outputs": [
        {
          "output_type": "stream",
          "name": "stderr",
          "text": [
            "/usr/local/lib/python3.7/dist-packages/sklearn/utils/deprecation.py:87: FutureWarning: Function get_feature_names is deprecated; get_feature_names is deprecated in 1.0 and will be removed in 1.2. Please use get_feature_names_out instead.\n",
            "  warnings.warn(msg, category=FutureWarning)\n"
          ]
        },
        {
          "output_type": "execute_result",
          "data": {
            "text/plain": [
              "array(['relapsingremitting', 'sclerosis', 'digital', 'sclerosis',\n",
              "       'necessary', 'early', 'lot', 'deteriorating'], dtype='<U26')"
            ]
          },
          "metadata": {},
          "execution_count": 97
        }
      ]
    },
    {
      "cell_type": "code",
      "source": [
        "for v in tfidf[indexes][0]:\n",
        "  print(v)"
      ],
      "metadata": {
        "colab": {
          "base_uri": "https://localhost:8080/"
        },
        "id": "XfJ5mS1Ixcl5",
        "outputId": "353073e3-3f63-4ebe-e944-b7178583d2c5"
      },
      "execution_count": null,
      "outputs": [
        {
          "output_type": "stream",
          "name": "stdout",
          "text": [
            "  (0, 941)\t0.23813021671569928\n",
            "  (0, 1834)\t0.38107915299640627\n",
            "  (0, 3263)\t0.2893816820844013\n",
            "  (0, 1816)\t0.2987124130992891\n",
            "  (0, 2568)\t0.40182977583117757\n",
            "  (0, 2621)\t0.33088292775394385\n",
            "  (0, 1996)\t0.2893816820844013\n",
            "  (0, 2479)\t0.40182977583117757\n",
            "  (0, 3199)\t0.21915061256934226\n",
            "  (0, 3341)\t0.1416183632903399\n",
            "  (0, 902)\t0.2021372213824986\n"
          ]
        }
      ]
    },
    {
      "cell_type": "code",
      "source": [
        "features[2479]"
      ],
      "metadata": {
        "colab": {
          "base_uri": "https://localhost:8080/",
          "height": 35
        },
        "id": "6hlV7BxZ2dRQ",
        "outputId": "60df7dad-6802-421b-e4f0-361a3b6c4646"
      },
      "execution_count": null,
      "outputs": [
        {
          "output_type": "execute_result",
          "data": {
            "text/plain": [
              "'relapsingremitting'"
            ],
            "application/vnd.google.colaboratory.intrinsic+json": {
              "type": "string"
            }
          },
          "metadata": {},
          "execution_count": 106
        }
      ]
    },
    {
      "cell_type": "code",
      "source": [
        "features[2568]"
      ],
      "metadata": {
        "colab": {
          "base_uri": "https://localhost:8080/",
          "height": 35
        },
        "id": "KCKnOttq3LPY",
        "outputId": "fca999da-3a51-4fc8-b8af-114bc9082a41"
      },
      "execution_count": null,
      "outputs": [
        {
          "output_type": "execute_result",
          "data": {
            "text/plain": [
              "'rrms'"
            ],
            "application/vnd.google.colaboratory.intrinsic+json": {
              "type": "string"
            }
          },
          "metadata": {},
          "execution_count": 107
        }
      ]
    },
    {
      "cell_type": "code",
      "source": [
        "features[2621]"
      ],
      "metadata": {
        "colab": {
          "base_uri": "https://localhost:8080/",
          "height": 35
        },
        "id": "vUPcwpXc3R56",
        "outputId": "71daa5e4-b6b0-4a29-a9b7-539de3a01276"
      },
      "execution_count": null,
      "outputs": [
        {
          "output_type": "execute_result",
          "data": {
            "text/plain": [
              "'sclerosis'"
            ],
            "application/vnd.google.colaboratory.intrinsic+json": {
              "type": "string"
            }
          },
          "metadata": {},
          "execution_count": 108
        }
      ]
    },
    {
      "cell_type": "code",
      "source": [
        ""
      ],
      "metadata": {
        "id": "LlqoV8743YdC"
      },
      "execution_count": null,
      "outputs": []
    }
  ]
}