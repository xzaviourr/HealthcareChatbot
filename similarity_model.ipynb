{
 "cells": [
  {
   "cell_type": "code",
   "execution_count": 1,
   "metadata": {},
   "outputs": [],
   "source": [
    "import pandas as pd"
   ]
  },
  {
   "cell_type": "code",
   "execution_count": 7,
   "metadata": {},
   "outputs": [
    {
     "data": {
      "text/html": [
       "<div>\n",
       "<style scoped>\n",
       "    .dataframe tbody tr th:only-of-type {\n",
       "        vertical-align: middle;\n",
       "    }\n",
       "\n",
       "    .dataframe tbody tr th {\n",
       "        vertical-align: top;\n",
       "    }\n",
       "\n",
       "    .dataframe thead th {\n",
       "        text-align: right;\n",
       "    }\n",
       "</style>\n",
       "<table border=\"1\" class=\"dataframe\">\n",
       "  <thead>\n",
       "    <tr style=\"text-align: right;\">\n",
       "      <th></th>\n",
       "      <th>answer</th>\n",
       "      <th>question</th>\n",
       "      <th>url</th>\n",
       "      <th>tags</th>\n",
       "    </tr>\n",
       "  </thead>\n",
       "  <tbody>\n",
       "    <tr>\n",
       "      <th>0</th>\n",
       "      <td>adhd and bipolar mood disorder (bmd) can coexi...</td>\n",
       "      <td>my 5 1/2-year-old son displays adhd symptoms f...</td>\n",
       "      <td>http://answers.webmd.com/answers/1194205/my-5-...</td>\n",
       "      <td>[attention deficit hyperactivity disorder]</td>\n",
       "    </tr>\n",
       "    <tr>\n",
       "      <th>1</th>\n",
       "      <td>stimulants in general tend to decrease appetit...</td>\n",
       "      <td>my son has add and mild autism. he has been su...</td>\n",
       "      <td>http://answers.webmd.com/answers/1194206/my-so...</td>\n",
       "      <td>[autism, weight loss]</td>\n",
       "    </tr>\n",
       "    <tr>\n",
       "      <th>2</th>\n",
       "      <td>while any of the stimulant medications can inc...</td>\n",
       "      <td>my son is 13 and is depressed. he has been tak...</td>\n",
       "      <td>http://answers.webmd.com/answers/1198557/my-so...</td>\n",
       "      <td>[]</td>\n",
       "    </tr>\n",
       "    <tr>\n",
       "      <th>3</th>\n",
       "      <td>seventy percent of teens diagnosed when they a...</td>\n",
       "      <td>my 17-year-old has stopped taking concerta aft...</td>\n",
       "      <td>http://answers.webmd.com/answers/1195455/my-17...</td>\n",
       "      <td>[attention deficit hyperactivity disorder]</td>\n",
       "    </tr>\n",
       "    <tr>\n",
       "      <th>4</th>\n",
       "      <td>try claritin-d which is located behind the pha...</td>\n",
       "      <td>i've been taking respa-ar for allergies. i can...</td>\n",
       "      <td>http://answers.webmd.com/answers/1182576/i-ve-...</td>\n",
       "      <td>[allergy]</td>\n",
       "    </tr>\n",
       "  </tbody>\n",
       "</table>\n",
       "</div>"
      ],
      "text/plain": [
       "                                              answer  \\\n",
       "0  adhd and bipolar mood disorder (bmd) can coexi...   \n",
       "1  stimulants in general tend to decrease appetit...   \n",
       "2  while any of the stimulant medications can inc...   \n",
       "3  seventy percent of teens diagnosed when they a...   \n",
       "4  try claritin-d which is located behind the pha...   \n",
       "\n",
       "                                            question  \\\n",
       "0  my 5 1/2-year-old son displays adhd symptoms f...   \n",
       "1  my son has add and mild autism. he has been su...   \n",
       "2  my son is 13 and is depressed. he has been tak...   \n",
       "3  my 17-year-old has stopped taking concerta aft...   \n",
       "4  i've been taking respa-ar for allergies. i can...   \n",
       "\n",
       "                                                 url  \\\n",
       "0  http://answers.webmd.com/answers/1194205/my-5-...   \n",
       "1  http://answers.webmd.com/answers/1194206/my-so...   \n",
       "2  http://answers.webmd.com/answers/1198557/my-so...   \n",
       "3  http://answers.webmd.com/answers/1195455/my-17...   \n",
       "4  http://answers.webmd.com/answers/1182576/i-ve-...   \n",
       "\n",
       "                                         tags  \n",
       "0  [attention deficit hyperactivity disorder]  \n",
       "1                       [autism, weight loss]  \n",
       "2                                          []  \n",
       "3  [attention deficit hyperactivity disorder]  \n",
       "4                                   [allergy]  "
      ]
     },
     "execution_count": 7,
     "metadata": {},
     "output_type": "execute_result"
    }
   ],
   "source": [
    "df = pd.read_json('Data/question-answer-dataset.json')\n",
    "df.head()"
   ]
  },
  {
   "cell_type": "code",
   "execution_count": 8,
   "metadata": {},
   "outputs": [
    {
     "name": "stdout",
     "output_type": "stream",
     "text": [
      "Total number of questions :  23437\n",
      "Total unique questions :  20784\n",
      "Dataset columns :  Index(['answer', 'question', 'url', 'tags'], dtype='object')\n"
     ]
    }
   ],
   "source": [
    "print(\"Total number of questions : \", df.shape[0])\n",
    "print(\"Total unique questions : \", df['question'].unique().shape[0])\n",
    "print(\"Dataset columns : \", df.columns)"
   ]
  },
  {
   "cell_type": "code",
   "execution_count": 51,
   "metadata": {},
   "outputs": [
    {
     "data": {
      "text/plain": [
       "<bound method NDFrame.head of 0      my 5 1/2-year-old son displays adhd symptoms f...\n",
       "1      my son has add and mild autism. he has been su...\n",
       "2      my son is 13 and is depressed. he has been tak...\n",
       "3      my 17-year-old has stopped taking concerta aft...\n",
       "4      i've been taking respa-ar for allergies. i can...\n",
       "                             ...                        \n",
       "995    should i keep my baby on a strict sleeping sch...\n",
       "996                  should i wake my baby for feedings?\n",
       "997                 how much nap time does my baby need?\n",
       "998                       can i take too much vitamin d?\n",
       "999        can you take too much magnesium or potassium?\n",
       "Name: question, Length: 1000, dtype: object>"
      ]
     },
     "execution_count": 51,
     "metadata": {},
     "output_type": "execute_result"
    }
   ],
   "source": [
    "questions = df['question'].copy()\n",
    "questions = questions[:1000]\n",
    "questions.head"
   ]
  },
  {
   "cell_type": "markdown",
   "metadata": {},
   "source": [
    "## DATA PREPROCESSING"
   ]
  },
  {
   "cell_type": "code",
   "execution_count": 52,
   "metadata": {},
   "outputs": [
    {
     "name": "stderr",
     "output_type": "stream",
     "text": [
      "[nltk_data] Downloading package stopwords to\n",
      "[nltk_data]     C:\\Users\\anshu\\AppData\\Roaming\\nltk_data...\n",
      "[nltk_data]   Package stopwords is already up-to-date!\n"
     ]
    }
   ],
   "source": [
    "import nltk\n",
    "nltk.download('stopwords')\n",
    "from nltk.corpus import stopwords\n",
    "from nltk import PorterStemmer as stemmer\n",
    "\n",
    "def preprocess(dataframe):\n",
    "    # Convert to lower case\n",
    "    dataframe = dataframe.str.lower()\n",
    "\n",
    "    # Remove stop words\n",
    "    dataframe = dataframe.apply(lambda x: ' '.join([word for word in x.split(' ') if word not in (stopwords.words('english'))]))    \n",
    "\n",
    "    # Remove puntuation\n",
    "    dataframe = dataframe.str.replace('[^\\w\\s]',' ')\n",
    "\n",
    "    # Remove apostrophe\n",
    "    dataframe = dataframe.str.replace(\"'\", \"\")\n",
    "\n",
    "    # Apply stemming\n",
    "    # dataframe = dataframe.apply(lambda x: [stemmer.stem(y) for y in x])"
   ]
  },
  {
   "cell_type": "code",
   "execution_count": 53,
   "metadata": {},
   "outputs": [
    {
     "name": "stderr",
     "output_type": "stream",
     "text": [
      "C:\\Users\\anshu\\AppData\\Local\\Temp\\ipykernel_19680\\2849025806.py:14: FutureWarning: The default value of regex will change from True to False in a future version.\n",
      "  dataframe = dataframe.str.replace('[^\\w\\s]',' ')\n"
     ]
    },
    {
     "data": {
      "text/plain": [
       "0      my 5 1/2-year-old son displays adhd symptoms f...\n",
       "1      my son has add and mild autism. he has been su...\n",
       "2      my son is 13 and is depressed. he has been tak...\n",
       "3      my 17-year-old has stopped taking concerta aft...\n",
       "4      i've been taking respa-ar for allergies. i can...\n",
       "                             ...                        \n",
       "995    should i keep my baby on a strict sleeping sch...\n",
       "996                  should i wake my baby for feedings?\n",
       "997                 how much nap time does my baby need?\n",
       "998                       can i take too much vitamin d?\n",
       "999        can you take too much magnesium or potassium?\n",
       "Name: question, Length: 1000, dtype: object"
      ]
     },
     "execution_count": 53,
     "metadata": {},
     "output_type": "execute_result"
    }
   ],
   "source": [
    "preprocess(questions)\n",
    "questions"
   ]
  },
  {
   "cell_type": "code",
   "execution_count": null,
   "metadata": {},
   "outputs": [],
   "source": []
  }
 ],
 "metadata": {
  "interpreter": {
   "hash": "37f87eca624e123b04fe67b249e89b15c109cb9a08cc0c5aa52d1cf4ede2a412"
  },
  "kernelspec": {
   "display_name": "Python 3.8.10 ('venv': venv)",
   "language": "python",
   "name": "python3"
  },
  "language_info": {
   "codemirror_mode": {
    "name": "ipython",
    "version": 3
   },
   "file_extension": ".py",
   "mimetype": "text/x-python",
   "name": "python",
   "nbconvert_exporter": "python",
   "pygments_lexer": "ipython3",
   "version": "3.8.10"
  },
  "orig_nbformat": 4
 },
 "nbformat": 4,
 "nbformat_minor": 2
}
